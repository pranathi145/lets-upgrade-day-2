{
  "nbformat": 4,
  "nbformat_minor": 0,
  "metadata": {
    "colab": {
      "name": "assignment 2",
      "provenance": [],
      "authorship_tag": "ABX9TyPiAxR/Dt4oQ4qgSN03tzge",
      "include_colab_link": true
    },
    "kernelspec": {
      "name": "python3",
      "display_name": "Python 3"
    },
    "language_info": {
      "name": "python"
    }
  },
  "cells": [
    {
      "cell_type": "markdown",
      "metadata": {
        "id": "view-in-github",
        "colab_type": "text"
      },
      "source": [
        "<a href=\"https://colab.research.google.com/github/pranathi145/lets-upgrade-day-2/blob/main/assignment_2.ipynb\" target=\"_parent\"><img src=\"https://colab.research.google.com/assets/colab-badge.svg\" alt=\"Open In Colab\"/></a>"
      ]
    },
    {
      "cell_type": "code",
      "metadata": {
        "id": "KZEwcSK-7S27"
      },
      "source": [
        "import numpy as np\n",
        "import pandas as pd\n",
        "import seaborn as sns\n",
        "\n",
        "import matplotlib as mpl\n",
        "import matplotlib.pyplot as plt\n",
        "%matplotlib inline\n",
        "\n",
        "from numpy.random import randn, randint, uniform, sample\n",
        "\n"
      ],
      "execution_count": 1,
      "outputs": []
    },
    {
      "cell_type": "code",
      "metadata": {
        "colab": {
          "base_uri": "https://localhost:8080/",
          "height": 360
        },
        "id": "zAg5Moes7WIN",
        "outputId": "a3d62823-dbd8-496b-b857-71e6f8d51349"
      },
      "source": [
        "dff = pd.DataFrame(randn(10,4), columns = [\"a\",\"b\",\"c\",\"d\"])\n",
        "dff"
      ],
      "execution_count": 2,
      "outputs": [
        {
          "output_type": "execute_result",
          "data": {
            "text/html": [
              "<div>\n",
              "<style scoped>\n",
              "    .dataframe tbody tr th:only-of-type {\n",
              "        vertical-align: middle;\n",
              "    }\n",
              "\n",
              "    .dataframe tbody tr th {\n",
              "        vertical-align: top;\n",
              "    }\n",
              "\n",
              "    .dataframe thead th {\n",
              "        text-align: right;\n",
              "    }\n",
              "</style>\n",
              "<table border=\"1\" class=\"dataframe\">\n",
              "  <thead>\n",
              "    <tr style=\"text-align: right;\">\n",
              "      <th></th>\n",
              "      <th>a</th>\n",
              "      <th>b</th>\n",
              "      <th>c</th>\n",
              "      <th>d</th>\n",
              "    </tr>\n",
              "  </thead>\n",
              "  <tbody>\n",
              "    <tr>\n",
              "      <th>0</th>\n",
              "      <td>1.035705</td>\n",
              "      <td>-0.579762</td>\n",
              "      <td>-0.230078</td>\n",
              "      <td>-0.226561</td>\n",
              "    </tr>\n",
              "    <tr>\n",
              "      <th>1</th>\n",
              "      <td>1.610772</td>\n",
              "      <td>0.875384</td>\n",
              "      <td>1.424109</td>\n",
              "      <td>1.275227</td>\n",
              "    </tr>\n",
              "    <tr>\n",
              "      <th>2</th>\n",
              "      <td>0.822342</td>\n",
              "      <td>-1.377955</td>\n",
              "      <td>0.595416</td>\n",
              "      <td>1.118008</td>\n",
              "    </tr>\n",
              "    <tr>\n",
              "      <th>3</th>\n",
              "      <td>1.587015</td>\n",
              "      <td>0.353386</td>\n",
              "      <td>0.448651</td>\n",
              "      <td>-1.986271</td>\n",
              "    </tr>\n",
              "    <tr>\n",
              "      <th>4</th>\n",
              "      <td>0.287004</td>\n",
              "      <td>0.359335</td>\n",
              "      <td>0.129701</td>\n",
              "      <td>-2.721694</td>\n",
              "    </tr>\n",
              "    <tr>\n",
              "      <th>5</th>\n",
              "      <td>-0.090776</td>\n",
              "      <td>-1.203088</td>\n",
              "      <td>0.710249</td>\n",
              "      <td>1.435188</td>\n",
              "    </tr>\n",
              "    <tr>\n",
              "      <th>6</th>\n",
              "      <td>-0.013982</td>\n",
              "      <td>0.912093</td>\n",
              "      <td>-0.525604</td>\n",
              "      <td>-2.498632</td>\n",
              "    </tr>\n",
              "    <tr>\n",
              "      <th>7</th>\n",
              "      <td>0.992005</td>\n",
              "      <td>-0.511715</td>\n",
              "      <td>0.357391</td>\n",
              "      <td>0.472335</td>\n",
              "    </tr>\n",
              "    <tr>\n",
              "      <th>8</th>\n",
              "      <td>0.972944</td>\n",
              "      <td>1.498537</td>\n",
              "      <td>0.130536</td>\n",
              "      <td>-1.258786</td>\n",
              "    </tr>\n",
              "    <tr>\n",
              "      <th>9</th>\n",
              "      <td>0.810736</td>\n",
              "      <td>0.201860</td>\n",
              "      <td>0.719247</td>\n",
              "      <td>-0.207792</td>\n",
              "    </tr>\n",
              "  </tbody>\n",
              "</table>\n",
              "</div>"
            ],
            "text/plain": [
              "          a         b         c         d\n",
              "0  1.035705 -0.579762 -0.230078 -0.226561\n",
              "1  1.610772  0.875384  1.424109  1.275227\n",
              "2  0.822342 -1.377955  0.595416  1.118008\n",
              "3  1.587015  0.353386  0.448651 -1.986271\n",
              "4  0.287004  0.359335  0.129701 -2.721694\n",
              "5 -0.090776 -1.203088  0.710249  1.435188\n",
              "6 -0.013982  0.912093 -0.525604 -2.498632\n",
              "7  0.992005 -0.511715  0.357391  0.472335\n",
              "8  0.972944  1.498537  0.130536 -1.258786\n",
              "9  0.810736  0.201860  0.719247 -0.207792"
            ]
          },
          "metadata": {
            "tags": []
          },
          "execution_count": 2
        }
      ]
    },
    {
      "cell_type": "code",
      "metadata": {
        "colab": {
          "base_uri": "https://localhost:8080/",
          "height": 588
        },
        "id": "OhKIbh-p7glK",
        "outputId": "6235af90-5fc1-44fa-cccc-bd40cbe8baf4"
      },
      "source": [
        "dff.plot(kind=\"bar\", figsize=(10,10))\n",
        "plt.show()"
      ],
      "execution_count": 4,
      "outputs": [
        {
          "output_type": "display_data",
          "data": {
            "image/png": "[encoded data removed]",
            "text/plain": [
              "<Figure size 720x720 with 1 Axes>"
            ]
          },
          "metadata": {
            "tags": [],
            "needs_background": "light"
          }
        }
      ]
    }
  ]
}